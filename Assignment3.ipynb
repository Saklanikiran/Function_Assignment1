{
 "cells": [
  {
   "cell_type": "code",
   "execution_count": 4,
   "id": "d9292c5c-6139-4ede-88fd-ecb6738b6164",
   "metadata": {},
   "outputs": [
    {
     "name": "stdout",
     "output_type": "stream",
     "text": [
      "[1, 3, 5, 7, 9, 11, 13, 15, 17, 19, 21, 23]\n"
     ]
    }
   ],
   "source": [
    "# Ans:1\n",
    "# 'def' keyword is used to create a function \n",
    "\n",
    "def myFun():\n",
    "    l=[]\n",
    "    for i in range(25):\n",
    "        if i%2!=0:\n",
    "            l.append(i)\n",
    "    return l\n",
    "l1=myFun()\n",
    "print(l1)"
   ]
  },
  {
   "cell_type": "code",
   "execution_count": 5,
   "id": "fb4e1c12-6e70-4471-9c4e-f3dc6ed63768",
   "metadata": {},
   "outputs": [
    {
     "name": "stdout",
     "output_type": "stream",
     "text": [
      "Kiran\n",
      "Pooja\n",
      "first  :  for\n",
      "second  :  in\n"
     ]
    }
   ],
   "source": [
    "# Ans:2\n",
    "'''\n",
    "*args(non-keyword argument):used to pass a variable number of arguments to a function. It is used to pass a non-keyworded, variable-length argument list. \n",
    "**kwargs(keyword argument):used to pass a keyworded, variable-length argument list. \n",
    "'''\n",
    "# Example : *args\n",
    "def myfun(*args):\n",
    "    for i in args:\n",
    "        print(i)\n",
    "myfun('Kiran','Pooja')\n",
    "\n",
    "# Example : **kwargs\n",
    "def myfun1(**kwargs):\n",
    "    for key,value in kwargs.items():\n",
    "        print(key,' : ',value)\n",
    "myfun1(first='for' , second='in')"
   ]
  },
  {
   "cell_type": "code",
   "execution_count": 6,
   "id": "a3b2c517-1c95-43b1-b1df-f52bf3c52dde",
   "metadata": {},
   "outputs": [
    {
     "name": "stdout",
     "output_type": "stream",
     "text": [
      "2\n",
      "4\n",
      "6\n",
      "8\n",
      "10\n"
     ]
    }
   ],
   "source": [
    "# Ans:3\n",
    "# iterator:An iterator in Python is an object that is used to iterate over iterable objects like lists, tuples, dicts, and sets.\n",
    "'''\n",
    "method for initialise iterator object : iter()\n",
    "method used for iteration : next()\n",
    "'''\n",
    "myList= [2, 4, 6, 8, 10, 12, 14 ,16, 18, 20]\n",
    "l=iter(myList)\n",
    "for i in range(5):\n",
    "    print(next(l))"
   ]
  },
  {
   "cell_type": "code",
   "execution_count": 7,
   "id": "134c018f-d97f-4713-a441-c52587b649cf",
   "metadata": {},
   "outputs": [
    {
     "name": "stdout",
     "output_type": "stream",
     "text": [
      "0\n",
      "1\n",
      "2\n",
      "3\n",
      "4\n",
      "5\n",
      "6\n",
      "7\n",
      "8\n",
      "9\n"
     ]
    }
   ],
   "source": [
    "# Ans:4\n",
    "'''\n",
    "Genetator function:A generator is a special type of function which does not return a single value, instead,\n",
    "it returns an iterator object with a sequence of values.\n",
    "'''\n",
    "'''\n",
    "yield keyword: yield keyword is used to create a generator function.\n",
    "A type of function that is memory efficient and can be used like an iterator object.\n",
    "'''\n",
    "# Example:\n",
    "def genfun():\n",
    "    for i in range(10):\n",
    "        yield i\n",
    "for i in genfun():\n",
    "    print(i)\n"
   ]
  },
  {
   "cell_type": "code",
   "execution_count": 12,
   "id": "042165c9-6cc5-4383-8d53-907f60e42181",
   "metadata": {},
   "outputs": [
    {
     "name": "stdout",
     "output_type": "stream",
     "text": [
      "0\n",
      "1\n",
      "2\n",
      "3\n",
      "5\n",
      "7\n",
      "11\n",
      "13\n",
      "17\n",
      "19\n",
      "23\n",
      "29\n",
      "31\n",
      "37\n",
      "41\n",
      "43\n",
      "47\n",
      "53\n",
      "59\n",
      "61\n"
     ]
    }
   ],
   "source": [
    "# Ans:5\n",
    "def prifun():\n",
    "    for i in range(1000):\n",
    "        for x in range(2,i):\n",
    "            if i%x==0:\n",
    "                break\n",
    "        else:\n",
    "            yield i\n",
    "mylist=iter(prifun())\n",
    "for i in range(20):\n",
    "    print(next(mylist))\n",
    "            \n"
   ]
  },
  {
   "cell_type": "code",
   "execution_count": 14,
   "id": "9c7e7afe-e79f-4545-90bf-95d06e39723c",
   "metadata": {},
   "outputs": [
    {
     "name": "stdout",
     "output_type": "stream",
     "text": [
      "0\n",
      "1\n",
      "1\n",
      "2\n",
      "3\n",
      "5\n",
      "8\n",
      "13\n",
      "21\n",
      "34\n"
     ]
    }
   ],
   "source": [
    "# Ans:6\n",
    "#program for print 10 fibinacci number\n",
    "def fibfun():\n",
    "    a,b=0,1\n",
    "    while True:\n",
    "        yield a\n",
    "        a,b= b, a+b\n",
    "fib=fibfun()\n",
    "for i in range(10):\n",
    "    print(next(fib))\n",
    "        \n"
   ]
  },
  {
   "cell_type": "code",
   "execution_count": 2,
   "id": "3c5049aa-d6a3-46f2-9b98-a855e3d7bc5d",
   "metadata": {},
   "outputs": [
    {
     "name": "stdout",
     "output_type": "stream",
     "text": [
      "['p', 'w', 's', 'k', 'i', 'l', 'l', 's']\n"
     ]
    }
   ],
   "source": [
    "# Ans:7\n",
    "str1='pwskills'\n",
    "mylist=[]\n",
    "for i in str1:\n",
    "    mylist.append(i)\n",
    "print(mylist)"
   ]
  },
  {
   "cell_type": "code",
   "execution_count": 9,
   "id": "239ef16b-e247-42c1-b2b7-8b5b9c352d0c",
   "metadata": {},
   "outputs": [
    {
     "name": "stdin",
     "output_type": "stream",
     "text": [
      " 1221\n"
     ]
    },
    {
     "name": "stdout",
     "output_type": "stream",
     "text": [
      "Given number is palindrome\n"
     ]
    }
   ],
   "source": [
    "# Ans:8\n",
    "num=int(input())\n",
    "reverse=0\n",
    "temp=num\n",
    "while num>0:\n",
    "    remainder=num%10\n",
    "    num=num//10\n",
    "    reverse=(reverse*10)+remainder\n",
    "if reverse==temp: \n",
    "    print(\"Given number is palindrome\")\n",
    "else: \n",
    "    print(\"Given number is not a palindrome number\")"
   ]
  },
  {
   "cell_type": "code",
   "execution_count": 12,
   "id": "c1a8687f-02ee-4686-88f4-f7c67351ff74",
   "metadata": {},
   "outputs": [
    {
     "data": {
      "text/plain": [
       "[1,\n",
       " 3,\n",
       " 5,\n",
       " 7,\n",
       " 9,\n",
       " 11,\n",
       " 13,\n",
       " 15,\n",
       " 17,\n",
       " 19,\n",
       " 21,\n",
       " 23,\n",
       " 25,\n",
       " 27,\n",
       " 29,\n",
       " 31,\n",
       " 33,\n",
       " 35,\n",
       " 37,\n",
       " 39,\n",
       " 41,\n",
       " 43,\n",
       " 45,\n",
       " 47,\n",
       " 49,\n",
       " 51,\n",
       " 53,\n",
       " 55,\n",
       " 57,\n",
       " 59,\n",
       " 61,\n",
       " 63,\n",
       " 65,\n",
       " 67,\n",
       " 69,\n",
       " 71,\n",
       " 73,\n",
       " 75,\n",
       " 77,\n",
       " 79,\n",
       " 81,\n",
       " 83,\n",
       " 85,\n",
       " 87,\n",
       " 89,\n",
       " 91,\n",
       " 93,\n",
       " 95,\n",
       " 97,\n",
       " 99]"
      ]
     },
     "execution_count": 12,
     "metadata": {},
     "output_type": "execute_result"
    }
   ],
   "source": [
    "# Ans:9\n",
    "def odd_numbers(n):\n",
    "    mylist=[]\n",
    "    for x in range(n):\n",
    "            if x%2 != 0:\n",
    "                mylist.append(x)\n",
    "    return mylist\n",
    "odd_numbers(100)\n"
   ]
  }
 ],
 "metadata": {
  "kernelspec": {
   "display_name": "Python 3 (ipykernel)",
   "language": "python",
   "name": "python3"
  },
  "language_info": {
   "codemirror_mode": {
    "name": "ipython",
    "version": 3
   },
   "file_extension": ".py",
   "mimetype": "text/x-python",
   "name": "python",
   "nbconvert_exporter": "python",
   "pygments_lexer": "ipython3",
   "version": "3.10.8"
  }
 },
 "nbformat": 4,
 "nbformat_minor": 5
}
